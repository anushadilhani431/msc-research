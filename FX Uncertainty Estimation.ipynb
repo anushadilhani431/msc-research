{
 "cells": [
  {
   "cell_type": "markdown",
   "id": "99b8ee52-8f8c-4fb5-a2ac-6675f7559cd8",
   "metadata": {},
   "source": [
    "## Data cleaning"
   ]
  },
  {
   "cell_type": "code",
   "execution_count": 2,
   "id": "adabae63-eb9f-4b4d-900a-01025c1da51d",
   "metadata": {},
   "outputs": [],
   "source": [
    "import pandas as pd\n",
    "import numpy as np\n",
    "from pathlib import Path"
   ]
  },
  {
   "cell_type": "code",
   "execution_count": 4,
   "id": "a3c89928-3008-4ec7-88d3-607392279905",
   "metadata": {},
   "outputs": [],
   "source": [
    "DATA_DIR = Path(\"raw_data\")\n",
    "files = sorted(DATA_DIR.glob(\"EURUSD_M5_*.csv\"))\n",
    "\n",
    "def read_one(fp: Path) -> pd.DataFrame:\n",
    "    df = pd.read_csv(fp)\n",
    "    df.columns = [c.strip().lower() for c in df.columns]\n",
    "    if np.issubdtype(df['time'].dtype, np.number):\n",
    "        df['time'] = pd.to_datetime(df['time'], unit='s', utc=True)\n",
    "    else:\n",
    "        df['time'] = pd.to_datetime(df['time'], utc=True, errors='coerce')\n",
    "    keep = ['time','open','high','low','close','tick_volume','spread']\n",
    "    df = df[keep]\n",
    "    return df\n",
    "\n",
    "raw = pd.concat([read_one(f) for f in files], ignore_index=True)"
   ]
  },
  {
   "cell_type": "code",
   "execution_count": 5,
   "id": "91f510fd-4aae-47d9-8c96-3289d2d21735",
   "metadata": {},
   "outputs": [
    {
     "data": {
      "text/plain": [
       "(1899600, 7)"
      ]
     },
     "execution_count": 5,
     "metadata": {},
     "output_type": "execute_result"
    }
   ],
   "source": [
    "raw.shape"
   ]
  },
  {
   "cell_type": "code",
   "execution_count": 6,
   "id": "2742b6d9-c50b-408e-95e8-f60dfcdc3f66",
   "metadata": {},
   "outputs": [
    {
     "data": {
      "text/plain": [
       "{'rows_total': 1899600,\n",
       " 'rows_time_parse_failed': 0,\n",
       " 'duplicate_timestamps': 0,\n",
       " 'rows_with_any_NaN': 0,\n",
       " 'NaN_by_column': {'time': 0,\n",
       "  'open': 0,\n",
       "  'high': 0,\n",
       "  'low': 0,\n",
       "  'close': 0,\n",
       "  'tick_volume': 0,\n",
       "  'spread': 0}}"
      ]
     },
     "execution_count": 6,
     "metadata": {},
     "output_type": "execute_result"
    }
   ],
   "source": [
    "df =raw\n",
    "time_parsed = pd.to_datetime(df['time'], errors='coerce', utc=True)\n",
    "\n",
    "summary = {\n",
    "    \"rows_total\": len(df),\n",
    "    \"rows_time_parse_failed\": time_parsed.isna().sum(),\n",
    "    \"duplicate_timestamps\": time_parsed.duplicated(keep=False).sum(),\n",
    "    \"rows_with_any_NaN\": df.isna().any(axis=1).sum(),\n",
    "    \"NaN_by_column\": df.isna().sum().to_dict(),\n",
    "}\n",
    "summary"
   ]
  },
  {
   "cell_type": "code",
   "execution_count": 7,
   "id": "2bc1f6bd-1d49-4ca0-85d7-c671b31635c7",
   "metadata": {},
   "outputs": [],
   "source": [
    "raw = raw.sort_values('time').set_index('time')"
   ]
  },
  {
   "cell_type": "code",
   "execution_count": 8,
   "id": "89131f09-7cf4-4488-a46e-fafd9182f16c",
   "metadata": {},
   "outputs": [
    {
     "data": {
      "text/html": [
       "<div>\n",
       "<style scoped>\n",
       "    .dataframe tbody tr th:only-of-type {\n",
       "        vertical-align: middle;\n",
       "    }\n",
       "\n",
       "    .dataframe tbody tr th {\n",
       "        vertical-align: top;\n",
       "    }\n",
       "\n",
       "    .dataframe thead th {\n",
       "        text-align: right;\n",
       "    }\n",
       "</style>\n",
       "<table border=\"1\" class=\"dataframe\">\n",
       "  <thead>\n",
       "    <tr style=\"text-align: right;\">\n",
       "      <th></th>\n",
       "      <th>open</th>\n",
       "      <th>high</th>\n",
       "      <th>low</th>\n",
       "      <th>close</th>\n",
       "      <th>tick_volume</th>\n",
       "      <th>spread</th>\n",
       "    </tr>\n",
       "    <tr>\n",
       "      <th>time</th>\n",
       "      <th></th>\n",
       "      <th></th>\n",
       "      <th></th>\n",
       "      <th></th>\n",
       "      <th></th>\n",
       "      <th></th>\n",
       "    </tr>\n",
       "  </thead>\n",
       "  <tbody>\n",
       "    <tr>\n",
       "      <th>2000-01-03 00:00:00+00:00</th>\n",
       "      <td>1.0073</td>\n",
       "      <td>1.0080</td>\n",
       "      <td>1.0073</td>\n",
       "      <td>1.0080</td>\n",
       "      <td>10</td>\n",
       "      <td>50</td>\n",
       "    </tr>\n",
       "    <tr>\n",
       "      <th>2000-01-03 00:10:00+00:00</th>\n",
       "      <td>1.0079</td>\n",
       "      <td>1.0080</td>\n",
       "      <td>1.0076</td>\n",
       "      <td>1.0077</td>\n",
       "      <td>9</td>\n",
       "      <td>50</td>\n",
       "    </tr>\n",
       "    <tr>\n",
       "      <th>2000-01-03 00:15:00+00:00</th>\n",
       "      <td>1.0078</td>\n",
       "      <td>1.0083</td>\n",
       "      <td>1.0076</td>\n",
       "      <td>1.0078</td>\n",
       "      <td>23</td>\n",
       "      <td>50</td>\n",
       "    </tr>\n",
       "    <tr>\n",
       "      <th>2000-01-03 00:20:00+00:00</th>\n",
       "      <td>1.0079</td>\n",
       "      <td>1.0082</td>\n",
       "      <td>1.0078</td>\n",
       "      <td>1.0079</td>\n",
       "      <td>9</td>\n",
       "      <td>50</td>\n",
       "    </tr>\n",
       "    <tr>\n",
       "      <th>2000-01-03 00:25:00+00:00</th>\n",
       "      <td>1.0082</td>\n",
       "      <td>1.0087</td>\n",
       "      <td>1.0080</td>\n",
       "      <td>1.0086</td>\n",
       "      <td>9</td>\n",
       "      <td>50</td>\n",
       "    </tr>\n",
       "  </tbody>\n",
       "</table>\n",
       "</div>"
      ],
      "text/plain": [
       "                             open    high     low   close  tick_volume  spread\n",
       "time                                                                          \n",
       "2000-01-03 00:00:00+00:00  1.0073  1.0080  1.0073  1.0080           10      50\n",
       "2000-01-03 00:10:00+00:00  1.0079  1.0080  1.0076  1.0077            9      50\n",
       "2000-01-03 00:15:00+00:00  1.0078  1.0083  1.0076  1.0078           23      50\n",
       "2000-01-03 00:20:00+00:00  1.0079  1.0082  1.0078  1.0079            9      50\n",
       "2000-01-03 00:25:00+00:00  1.0082  1.0087  1.0080  1.0086            9      50"
      ]
     },
     "execution_count": 8,
     "metadata": {},
     "output_type": "execute_result"
    }
   ],
   "source": [
    "raw.head()"
   ]
  },
  {
   "cell_type": "code",
   "execution_count": 9,
   "id": "b393f0a8-240b-40bd-b378-64ea90c8fe86",
   "metadata": {},
   "outputs": [
    {
     "name": "stdout",
     "output_type": "stream",
     "text": [
      "None\n"
     ]
    }
   ],
   "source": [
    "df = raw.copy()\n",
    "print(df.index.freq) "
   ]
  },
  {
   "cell_type": "code",
   "execution_count": 10,
   "id": "cc216f6e-c409-4dec-a07f-2f7f5c89c374",
   "metadata": {},
   "outputs": [
    {
     "data": {
      "text/html": [
       "<div>\n",
       "<style scoped>\n",
       "    .dataframe tbody tr th:only-of-type {\n",
       "        vertical-align: middle;\n",
       "    }\n",
       "\n",
       "    .dataframe tbody tr th {\n",
       "        vertical-align: top;\n",
       "    }\n",
       "\n",
       "    .dataframe thead th {\n",
       "        text-align: right;\n",
       "    }\n",
       "</style>\n",
       "<table border=\"1\" class=\"dataframe\">\n",
       "  <thead>\n",
       "    <tr style=\"text-align: right;\">\n",
       "      <th></th>\n",
       "      <th>open</th>\n",
       "      <th>high</th>\n",
       "      <th>low</th>\n",
       "      <th>close</th>\n",
       "      <th>tick_volume</th>\n",
       "      <th>spread</th>\n",
       "    </tr>\n",
       "    <tr>\n",
       "      <th>time</th>\n",
       "      <th></th>\n",
       "      <th></th>\n",
       "      <th></th>\n",
       "      <th></th>\n",
       "      <th></th>\n",
       "      <th></th>\n",
       "    </tr>\n",
       "  </thead>\n",
       "  <tbody>\n",
       "    <tr>\n",
       "      <th>2000-01-03 00:00:00+00:00</th>\n",
       "      <td>1.0073</td>\n",
       "      <td>1.0080</td>\n",
       "      <td>1.0073</td>\n",
       "      <td>1.0080</td>\n",
       "      <td>10</td>\n",
       "      <td>50</td>\n",
       "    </tr>\n",
       "    <tr>\n",
       "      <th>2000-01-03 00:10:00+00:00</th>\n",
       "      <td>1.0079</td>\n",
       "      <td>1.0080</td>\n",
       "      <td>1.0076</td>\n",
       "      <td>1.0077</td>\n",
       "      <td>9</td>\n",
       "      <td>50</td>\n",
       "    </tr>\n",
       "    <tr>\n",
       "      <th>2000-01-03 00:15:00+00:00</th>\n",
       "      <td>1.0078</td>\n",
       "      <td>1.0083</td>\n",
       "      <td>1.0076</td>\n",
       "      <td>1.0078</td>\n",
       "      <td>23</td>\n",
       "      <td>50</td>\n",
       "    </tr>\n",
       "    <tr>\n",
       "      <th>2000-01-03 00:20:00+00:00</th>\n",
       "      <td>1.0079</td>\n",
       "      <td>1.0082</td>\n",
       "      <td>1.0078</td>\n",
       "      <td>1.0079</td>\n",
       "      <td>9</td>\n",
       "      <td>50</td>\n",
       "    </tr>\n",
       "    <tr>\n",
       "      <th>2000-01-03 00:25:00+00:00</th>\n",
       "      <td>1.0082</td>\n",
       "      <td>1.0087</td>\n",
       "      <td>1.0080</td>\n",
       "      <td>1.0086</td>\n",
       "      <td>9</td>\n",
       "      <td>50</td>\n",
       "    </tr>\n",
       "  </tbody>\n",
       "</table>\n",
       "</div>"
      ],
      "text/plain": [
       "                             open    high     low   close  tick_volume  spread\n",
       "time                                                                          \n",
       "2000-01-03 00:00:00+00:00  1.0073  1.0080  1.0073  1.0080           10      50\n",
       "2000-01-03 00:10:00+00:00  1.0079  1.0080  1.0076  1.0077            9      50\n",
       "2000-01-03 00:15:00+00:00  1.0078  1.0083  1.0076  1.0078           23      50\n",
       "2000-01-03 00:20:00+00:00  1.0079  1.0082  1.0078  1.0079            9      50\n",
       "2000-01-03 00:25:00+00:00  1.0082  1.0087  1.0080  1.0086            9      50"
      ]
     },
     "execution_count": 10,
     "metadata": {},
     "output_type": "execute_result"
    }
   ],
   "source": [
    "df.head()"
   ]
  },
  {
   "cell_type": "code",
   "execution_count": 11,
   "id": "9abaf87c-3ea8-4538-a1d9-36b52558e018",
   "metadata": {},
   "outputs": [
    {
     "name": "stdout",
     "output_type": "stream",
     "text": [
      "Missing 5‑min bars (weekends already excluded): 21360\n",
      "DatetimeIndex(['2000-01-03 00:05:00+00:00', '2000-01-03 05:50:00+00:00',\n",
      "               '2000-01-04 03:15:00+00:00', '2000-01-04 03:20:00+00:00',\n",
      "               '2000-01-04 03:25:00+00:00', '2000-01-04 03:30:00+00:00',\n",
      "               '2000-01-04 08:50:00+00:00', '2000-01-04 13:20:00+00:00',\n",
      "               '2000-01-04 13:25:00+00:00', '2000-01-04 13:30:00+00:00',\n",
      "               '2000-01-04 13:35:00+00:00', '2000-01-04 13:40:00+00:00',\n",
      "               '2000-01-05 14:35:00+00:00', '2000-01-05 14:40:00+00:00',\n",
      "               '2000-01-05 14:45:00+00:00', '2000-01-06 04:45:00+00:00',\n",
      "               '2000-01-06 23:10:00+00:00', '2000-01-07 00:15:00+00:00',\n",
      "               '2000-01-07 14:35:00+00:00', '2000-01-07 21:40:00+00:00'],\n",
      "              dtype='datetime64[ns, UTC]', freq=None)\n"
     ]
    }
   ],
   "source": [
    "import pandas as pd\n",
    "import numpy as np\n",
    "\n",
    "# --- Assume your DataFrame is called `raw` ---\n",
    "# Index: 'time' (tz-aware, UTC). Columns: ['open','high','low','close','tick_volume','spread']\n",
    "\n",
    "# 0) Ensure a UTC, tz-aware DateTimeIndex\n",
    "raw = raw.copy()\n",
    "raw.index = pd.to_datetime(raw.index, utc=True)\n",
    "\n",
    "# 2) Build the expected 5‑minute trading calendar over your data span, excluding weekends\n",
    "full_idx = pd.date_range(raw.index.min(), raw.index.max(), freq=\"5min\", tz=\"UTC\")\n",
    "full_idx = full_idx[full_idx.dayofweek < 5]\n",
    "\n",
    "# 3) Reindex to that calendar to expose the gaps\n",
    "aligned = raw.reindex(full_idx)\n",
    "\n",
    "# 4) Report missing timestamps\n",
    "missing_ts = aligned.index[aligned['close'].isna()]\n",
    "n_missing = missing_ts.size\n",
    "\n",
    "print(f\"Missing 5‑min bars (weekends already excluded): {n_missing}\")\n",
    "# If you want a quick look at the first few gaps:\n",
    "print(missing_ts[:20])\n"
   ]
  },
  {
   "cell_type": "code",
   "execution_count": 12,
   "id": "0ab0c306-53ec-47ee-9dc5-7a29dccb86b7",
   "metadata": {},
   "outputs": [],
   "source": [
    "def fill_missing_fx_ohlc(df):\n",
    "    \"\"\"\n",
    "    Expects an index of 5‑minute UTC timestamps (weekends removed) and columns:\n",
    "    open, high, low, close, tick_volume, spread\n",
    "    \"\"\"\n",
    "    out = df.copy()\n",
    "    # Identify rows that are entirely missing (e.g., after reindex)\n",
    "    miss = out['close'].isna()\n",
    "\n",
    "    # Previous close to use as flat price\n",
    "    prev_close = out['close'].ffill()\n",
    "\n",
    "    # Fill OHLC with previous close ONLY for missing bars\n",
    "    for col in ['open','high','low','close']:\n",
    "        out.loc[miss, col] = prev_close.loc[miss]\n",
    "\n",
    "    # Zero out volumes on synthetic bars\n",
    "    if 'tick_volume' in out.columns:\n",
    "        out.loc[miss, 'tick_volume'] = 0\n",
    "\n",
    "    # Spread: carry forward last observed value\n",
    "    if 'spread' in out.columns:\n",
    "        out['spread'] = out['spread'].ffill()\n",
    "\n",
    "    # Optional: mark synthetic bars\n",
    "    out['is_imputed'] = miss.astype(bool)\n",
    "\n",
    "    return out\n",
    "\n",
    "filled = fill_missing_fx_ohlc(aligned)\n"
   ]
  },
  {
   "cell_type": "code",
   "execution_count": 13,
   "id": "5bbfb4a4-8ab9-4225-bcc4-3ba6f06fd74b",
   "metadata": {},
   "outputs": [
    {
     "name": "stdout",
     "output_type": "stream",
     "text": [
      "Bars with inconsistent high/low bounds: 0\n"
     ]
    },
    {
     "ename": "AssertionError",
     "evalue": "",
     "output_type": "error",
     "traceback": [
      "\u001b[31m---------------------------------------------------------------------------\u001b[39m",
      "\u001b[31mAssertionError\u001b[39m                            Traceback (most recent call last)",
      "\u001b[36mCell\u001b[39m\u001b[36m \u001b[39m\u001b[32mIn[13]\u001b[39m\u001b[32m, line 11\u001b[39m\n\u001b[32m      9\u001b[39m \u001b[38;5;66;03m# 3) Confirm constant 5‑minute spacing after weekend removal\u001b[39;00m\n\u001b[32m     10\u001b[39m dt = filled.index.to_series().diff().dropna()\n\u001b[32m---> \u001b[39m\u001b[32m11\u001b[39m \u001b[38;5;28;01massert\u001b[39;00m (dt == pd.Timedelta(minutes=\u001b[32m5\u001b[39m)).all()\n",
      "\u001b[31mAssertionError\u001b[39m: "
     ]
    }
   ],
   "source": [
    "# 1) No remaining NaNs in price cols?\n",
    "assert filled[['open','high','low','close']].isna().sum().sum() == 0\n",
    "\n",
    "# 2) High/Low sanity: ensure low <= open/close <= high\n",
    "bad = (filled['low'] > filled[['open','close','high']].min(axis=1)) | \\\n",
    "      (filled['high'] < filled[['open','close','low']].max(axis=1))\n",
    "print(\"Bars with inconsistent high/low bounds:\", int(bad.sum()))\n",
    "\n",
    "# 3) Confirm constant 5‑minute spacing after weekend removal\n",
    "dt = filled.index.to_series().diff().dropna()\n",
    "assert (dt == pd.Timedelta(minutes=5)).all()\n"
   ]
  },
  {
   "cell_type": "markdown",
   "id": "9bd27273-6480-4f00-9732-6127d75b7137",
   "metadata": {},
   "source": [
    "## Feature Engineering"
   ]
  },
  {
   "cell_type": "code",
   "execution_count": 33,
   "id": "774a8efa-a200-414a-9f03-b22fc1bf3403",
   "metadata": {},
   "outputs": [],
   "source": [
    "import numpy as np\n",
    "import pandas as pd\n",
    "\n",
    "def lagged_log_return(series, periods=1):\n",
    "    \"\"\"Log-return over given periods.\"\"\"\n",
    "    return np.log(series).diff(periods)\n",
    "\n",
    "def simple_moving_average(series, window):\n",
    "    \"\"\"SMA over a rolling window.\"\"\"\n",
    "    return series.rolling(window=window).mean()\n",
    "\n",
    "def exponential_moving_average(series, span):\n",
    "    \"\"\"EMA with given span.\"\"\"\n",
    "    return series.ewm(span=span, adjust=False).mean()\n",
    "\n",
    "def momentum(series, window):\n",
    "    \"\"\"Simple price momentum: difference between current and window-period past.\"\"\"\n",
    "    return series.diff(window)\n",
    "\n",
    "def rsi_wilder(series, period=14):\n",
    "    \"\"\"Wilder’s RSI implementation.\"\"\"\n",
    "    delta = series.diff()\n",
    "    up = delta.clip(lower=0)\n",
    "    down = -delta.clip(upper=0)\n",
    "    roll_up = up.ewm(alpha=1/period, adjust=False).mean()\n",
    "    roll_down = down.ewm(alpha=1/period, adjust=False).mean()\n",
    "    rs = roll_up / roll_down.replace(0, np.nan)\n",
    "    return 100 - (100 / (1 + rs))\n",
    "\n",
    "def macd(series, fast=12, slow=26, signal=9):\n",
    "    \"\"\"MACD line and signal line.\"\"\"\n",
    "    ema_fast = exponential_moving_average(series, fast)\n",
    "    ema_slow = exponential_moving_average(series, slow)\n",
    "    macd_line = ema_fast - ema_slow\n",
    "    signal_line = exponential_moving_average(macd_line, signal)\n",
    "    return macd_line, signal_line\n",
    "\n",
    "def average_true_range(df, window=14):\n",
    "    \"\"\"ATR based on True Range.\"\"\"\n",
    "    high, low, close = df['high'], df['low'], df['close']\n",
    "    prev_close = close.shift(1)\n",
    "    tr = pd.concat([\n",
    "        high - low,\n",
    "        (high - prev_close).abs(),\n",
    "        (low - prev_close).abs()\n",
    "    ], axis=1).max(axis=1)\n",
    "    return tr.rolling(window).mean()\n",
    "\n",
    "def bollinger_band_width(series, window=20, n_std=2):\n",
    "    \"\"\"Normalized Bollinger Band width.\"\"\"\n",
    "    mid = simple_moving_average(series, window)\n",
    "    std = series.rolling(window).std(ddof=0)\n",
    "    return (2 * n_std * std) / mid\n",
    "\n",
    "def on_balance_volume(df):\n",
    "    \"\"\"OBV accumulates volume on up/down moves.\"\"\"\n",
    "    close, volume = df['close'], df['tick_volume']\n",
    "    direction = np.sign(close.diff()).fillna(0)\n",
    "    return (direction * volume).cumsum()\n",
    "\n",
    "\n"
   ]
  },
  {
   "cell_type": "code",
   "execution_count": 35,
   "id": "9ff67c65-4eb6-494b-9668-a10e3feb0d0e",
   "metadata": {},
   "outputs": [],
   "source": [
    "data = filled.copy()\n",
    "px = data['close']\n"
   ]
  },
  {
   "cell_type": "code",
   "execution_count": 37,
   "id": "a97078b2-f45f-4cb1-8ce5-67d62d8b5aee",
   "metadata": {},
   "outputs": [],
   "source": [
    "def build_features(df):\n",
    "    data = df.copy()\n",
    "    px = data['close']\n",
    "\n",
    "    # 1. Lagged returns\n",
    "    data['ret_1'] = lagged_log_return(px, 1)\n",
    "\n",
    "    # 2. Trend smoothing\n",
    "    data['sma_20'] = simple_moving_average(px, 20)\n",
    "    data['ema_20'] = exponential_moving_average(px, 20)\n",
    "\n",
    "    # 3. Momentum\n",
    "    data['mom_10'] = momentum(px, 10)\n",
    "\n",
    "    # 4. Oscillators\n",
    "    data['rsi_14'] = rsi_wilder(px, 14)\n",
    "    data['macd'], data['macd_sig'] = macd(px, fast=12, slow=26, signal=9)\n",
    "\n",
    "    # 5. Volatility\n",
    "    data['atr_14'] = average_true_range(data, 14)\n",
    "    data['bb_width_20'] = bollinger_band_width(px, 20, 2)\n",
    "    data['roll_std_10'] = data['ret_1'].rolling(10).std()\n",
    "\n",
    "    # 6. Volume proxy\n",
    "    data['obv'] = on_balance_volume(data)\n",
    "\n",
    "    # 7. Create the 1-hour forward return target\n",
    "    horizon = 12  # e.g. 12 × 5-min bars = 1 hour\n",
    "    data['y_ret_fwd_1h'] = np.log(data['close']).diff().rolling(horizon).sum().shift(-horizon)\n",
    "\n",
    "    # Final cleanup and drop rows with NaNs\n",
    "    return data.replace([np.inf, -np.inf], np.nan).dropna()"
   ]
  },
  {
   "cell_type": "code",
   "execution_count": 39,
   "id": "d9eae089-7b5b-40f0-bd61-92d967c28d76",
   "metadata": {},
   "outputs": [
    {
     "data": {
      "text/plain": [
       "Index(['open', 'high', 'low', 'close', 'tick_volume', 'spread', 'is_imputed',\n",
       "       'ret_1', 'sma_20', 'ema_20', 'mom_10', 'rsi_14', 'macd', 'macd_sig',\n",
       "       'atr_14', 'bb_width_20', 'roll_std_10', 'obv', 'y_ret_fwd_1h'],\n",
       "      dtype='object')"
      ]
     },
     "execution_count": 39,
     "metadata": {},
     "output_type": "execute_result"
    }
   ],
   "source": [
    "feats  = build_features(filled)\n",
    "\n",
    "\n",
    "feats.columns"
   ]
  },
  {
   "cell_type": "code",
   "execution_count": 40,
   "id": "d47dff34-4b75-4848-b3dd-f134bf5b2fa4",
   "metadata": {},
   "outputs": [
    {
     "data": {
      "text/plain": [
       "(1920929, 19)"
      ]
     },
     "execution_count": 40,
     "metadata": {},
     "output_type": "execute_result"
    }
   ],
   "source": [
    "feats.shape"
   ]
  },
  {
   "cell_type": "code",
   "execution_count": 41,
   "id": "d64e308c-076c-4eee-9569-5133f01b9be2",
   "metadata": {},
   "outputs": [],
   "source": [
    "# from sklearn.model_selection import train_test_split\n",
    "# from sklearn.ensemble import RandomForestRegressor\n",
    "# from sklearn.inspection import permutation_importance\n",
    "# import pandas as pd\n",
    "\n",
    "# # 1) Prepare X/y\n",
    "# X = feats.drop(columns=['y_ret_fwd_1h'])\n",
    "# y = feats['y_ret_fwd_1h']\n",
    "\n",
    "# # 2) Train/test split (no shuffle for time series)\n",
    "# X_train, X_test, y_train, y_test = train_test_split(\n",
    "#     X, y, test_size=0.2, shuffle=False\n",
    "# )\n",
    "\n",
    "# # 3) Fit RF\n",
    "# rf = RandomForestRegressor(\n",
    "#     n_estimators=200,\n",
    "#     max_depth=10,\n",
    "#     random_state=42,\n",
    "#     n_jobs=-1\n",
    "# )\n",
    "# rf.fit(X_train, y_train)\n",
    "\n",
    "# # 4) Impurity-based importances\n",
    "# impurity_imp = pd.Series(\n",
    "#     rf.feature_importances_,\n",
    "#     index=X.columns\n",
    "# ).sort_values(ascending=False)\n",
    "# print(\"Top 10 features by impurity importance:\")\n",
    "# print(impurity_imp.head(10))\n",
    "\n",
    "# # 5) (Optional) Permutation importances\n",
    "# perm_res = permutation_importance(\n",
    "#     rf,\n",
    "#     X_test,\n",
    "#     y_test,\n",
    "#     n_repeats=10,\n",
    "#     random_state=42,\n",
    "#     n_jobs=-1\n",
    "# )\n",
    "# perm_imp = pd.Series(\n",
    "#     perm_res.importances_mean,\n",
    "#     index=X.columns\n",
    "# ).sort_values(ascending=False)\n",
    "# print(\"\\nTop 10 features by permutation importance:\")\n",
    "# print(perm_imp.head(10))\n"
   ]
  },
  {
   "cell_type": "markdown",
   "id": "1365fe13-6fd8-45ba-ad30-49585c14b263",
   "metadata": {},
   "source": [
    "## Model training"
   ]
  },
  {
   "cell_type": "code",
   "execution_count": 46,
   "id": "45e12812-44f9-4159-8298-48c64ed9d750",
   "metadata": {},
   "outputs": [],
   "source": [
    "\n",
    "import os, math, random, json, time\n",
    "from pathlib import Path\n",
    "import numpy as np\n",
    "import pandas as pd\n",
    "import torch\n",
    "import torch.nn as nn\n",
    "from torch.utils.data import Dataset, DataLoader\n",
    "from sklearn.preprocessing import StandardScaler\n",
    "from sklearn.metrics import mean_absolute_error, mean_squared_error\n",
    "import matplotlib.pyplot as plt"
   ]
  },
  {
   "cell_type": "code",
   "execution_count": 47,
   "id": "56d64bd2-cdda-44ea-a4aa-09ba92f69f6c",
   "metadata": {},
   "outputs": [
    {
     "name": "stdout",
     "output_type": "stream",
     "text": [
      "Device: cuda\n"
     ]
    }
   ],
   "source": [
    "plt.rcParams['figure.figsize'] = (10, 4)\n",
    "RUN_DIR = Path('runs_fx_lstm')\n",
    "RUN_DIR.mkdir(parents=True, exist_ok=True)\n",
    "\n",
    "# ---- Task config ----\n",
    "HORIZON_5M = 12          # next-hour (12x5min)\n",
    "LOOKBACK = 48            # 4 hours context\n",
    "VAL_RATIO = 0.15\n",
    "TEST_RATIO = 0.15\n",
    "\n",
    "BATCH_SIZE = 256\n",
    "EPOCHS = 30\n",
    "LR = 1e-3\n",
    "DROPOUT_P = 0.2          # used in LSTM & MC-dropout\n",
    "HIDDEN = 128\n",
    "LAYERS = 1\n",
    "MC_SAMPLES = 50          # MC-dropout forward passes at inference\n",
    "ROLL_CONFORMAL = 2000    # rolling window for adaptive conformal\n",
    "ALPHA = 0.1              # 90% PI\n",
    "\n",
    "DEVICE = 'cuda' if torch.cuda.is_available() else 'cpu'\n",
    "\n",
    "def set_seed(seed=42):\n",
    "    random.seed(seed); np.random.seed(seed); torch.manual_seed(seed)\n",
    "    torch.cuda.manual_seed_all(seed)\n",
    "set_seed(42)\n",
    "print('Device:', DEVICE)"
   ]
  },
  {
   "cell_type": "code",
   "execution_count": 48,
   "id": "4c1ffbc9-a6a6-4a82-a57f-bc45df50d0b0",
   "metadata": {},
   "outputs": [
    {
     "name": "stdout",
     "output_type": "stream",
     "text": [
      "(1920929, 19) ['open', 'high', 'low', 'close', 'tick_volume', 'spread', 'is_imputed', 'ret_1'] ...\n"
     ]
    }
   ],
   "source": [
    "df = feats\n",
    "df = df.sort_index()\n",
    "print(df.shape, df.columns[:8].tolist(), '...')\n",
    "assert 'y_ret_fwd_1h' in df.columns, 'Target y_ret_fwd_1h missing from features file.'"
   ]
  },
  {
   "cell_type": "code",
   "execution_count": 49,
   "id": "1c49fc3a-ea0f-437a-90e0-bd0e1031bfa2",
   "metadata": {},
   "outputs": [
    {
     "name": "stdout",
     "output_type": "stream",
     "text": [
      "Splits: 1344651 288139 288139\n"
     ]
    }
   ],
   "source": [
    "N = len(df)\n",
    "n_test = int(N * TEST_RATIO)\n",
    "n_val  = int(N * VAL_RATIO)\n",
    "n_train = N - n_val - n_test\n",
    "train_df = df.iloc[:n_train]\n",
    "val_df   = df.iloc[n_train:n_train+n_val]\n",
    "test_df  = df.iloc[n_train+n_val:]\n",
    "\n",
    "print('Splits:', len(train_df), len(val_df), len(test_df))"
   ]
  },
  {
   "cell_type": "code",
   "execution_count": 50,
   "id": "b645ec39-3c3c-4df3-967c-e7d8693a2c79",
   "metadata": {},
   "outputs": [
    {
     "name": "stdout",
     "output_type": "stream",
     "text": [
      "Shapes: (1344591, 48, 18) (1344591,) (288079, 48, 18) (288079, 48, 18)\n"
     ]
    }
   ],
   "source": [
    "FEATURES = [c for c in df.columns if c != 'y_ret_fwd_1h']\n",
    "TARGET = 'y_ret_fwd_1h'\n",
    "\n",
    "scaler = StandardScaler()\n",
    "scaler.fit(train_df[FEATURES])\n",
    "\n",
    "def make_xy(data, lookback=48):\n",
    "    X, y, ts = [], [], []\n",
    "    Xsrc = scaler.transform(data[FEATURES])\n",
    "    ysrc = data[TARGET].values\n",
    "    idx = data.index.values\n",
    "    for i in range(lookback, len(data)-HORIZON_5M):\n",
    "        X.append(Xsrc[i-lookback:i])\n",
    "        y.append(ysrc[i])\n",
    "        ts.append(idx[i])\n",
    "    return np.array(X, dtype=np.float32), np.array(y, dtype=np.float32), np.array(ts)\n",
    "\n",
    "X_tr, y_tr, ts_tr = make_xy(train_df, LOOKBACK)\n",
    "X_va, y_va, ts_va = make_xy(val_df, LOOKBACK)\n",
    "X_te, y_te, ts_te = make_xy(test_df, LOOKBACK)\n",
    "\n",
    "print('Shapes:', X_tr.shape, y_tr.shape, X_va.shape, X_te.shape)"
   ]
  },
  {
   "cell_type": "code",
   "execution_count": 56,
   "id": "506f8562-0e79-4abf-9c57-adb97704079b",
   "metadata": {},
   "outputs": [],
   "source": [
    "class SeqSet(Dataset):\n",
    "    def __init__(self, X, y): self.X, self.y = X, y\n",
    "    def __len__(self): return len(self.y)\n",
    "    def __getitem__(self, i): return self.X[i], self.y[i]\n",
    "\n",
    "tr_ds = SeqSet(X_tr, y_tr); va_ds = SeqSet(X_va, y_va); te_ds = SeqSet(X_te, y_te)\n",
    "tr_dl = DataLoader(tr_ds, batch_size=BATCH_SIZE, shuffle=True, drop_last=True)\n",
    "va_dl = DataLoader(va_ds, batch_size=BATCH_SIZE, shuffle=False)\n",
    "te_dl = DataLoader(te_ds, batch_size=BATCH_SIZE, shuffle=False)"
   ]
  },
  {
   "cell_type": "code",
   "execution_count": 58,
   "id": "e7c53daa-9e48-46d5-8af3-132107f352c9",
   "metadata": {},
   "outputs": [],
   "source": [
    "class HeteroLSTM(nn.Module):\n",
    "    def __init__(self, n_features, hidden=128, layers=1, dropout=0.2):\n",
    "        super().__init__()\n",
    "        self.lstm = nn.LSTM(input_size=n_features, hidden_size=hidden, num_layers=layers,\n",
    "                            dropout=dropout if layers>1 else 0.0, batch_first=True)\n",
    "        self.dropout = nn.Dropout(dropout)\n",
    "        self.head_mu = nn.Linear(hidden, 1)\n",
    "        self.head_logvar = nn.Linear(hidden, 1)\n",
    "    def forward(self, x):\n",
    "        # x: (B, T, F)\n",
    "        out, _ = self.lstm(x)\n",
    "        h = out[:, -1, :]                 # last hidden\n",
    "        h = self.dropout(h)               # enables MC-dropout at inference\n",
    "        mu = self.head_mu(h).squeeze(-1)\n",
    "        logvar = self.head_logvar(h).squeeze(-1)\n",
    "        return mu, logvar\n",
    "\n",
    "def gaussian_nll(y, mu, logvar):\n",
    "    # NLL for Gaussian with predicted mean and log-variance\n",
    "    return 0.5 * (logvar + (y - mu)**2 / torch.exp(logvar))"
   ]
  },
  {
   "cell_type": "code",
   "execution_count": 60,
   "id": "c12e2fd3-392c-414e-ac9c-927f26927daa",
   "metadata": {},
   "outputs": [
    {
     "name": "stdout",
     "output_type": "stream",
     "text": [
      "Epoch 01 | train -4.960394 | val -5.910591\n",
      "Epoch 02 | train -5.356305 | val -5.596504\n",
      "Epoch 03 | train -5.401932 | val -5.980735\n",
      "Epoch 04 | train -5.413008 | val -5.520623\n",
      "Epoch 05 | train -5.477972 | val -6.105634\n",
      "Epoch 06 | train -5.525760 | val -4.671431\n",
      "Epoch 07 | train -5.524305 | val -6.184381\n",
      "Epoch 08 | train -5.574540 | val -5.939166\n",
      "Epoch 09 | train -5.638571 | val -6.182448\n",
      "Epoch 10 | train -5.691319 | val -6.181171\n",
      "Epoch 11 | train -5.673082 | val -5.497014\n",
      "Epoch 12 | train -5.834002 | val -4.976143\n",
      "Epoch 13 | train -5.391141 | val -6.120081\n",
      "Epoch 14 | train -5.336489 | val -6.393374\n",
      "Epoch 15 | train -5.945463 | val -6.567105\n",
      "Epoch 16 | train -6.145931 | val -6.668241\n",
      "Epoch 17 | train -6.184228 | val -6.626001\n",
      "Epoch 18 | train -6.212583 | val -6.306010\n",
      "Epoch 19 | train -6.234924 | val -6.646027\n",
      "Epoch 20 | train -6.251510 | val -6.558539\n",
      "Epoch 21 | train -6.267710 | val -4.616877\n",
      "Epoch 22 | train -6.277157 | val -6.695879\n",
      "Epoch 23 | train -6.285681 | val -6.596555\n",
      "Epoch 24 | train -6.294655 | val -6.649182\n",
      "Epoch 25 | train -6.300397 | val -6.413922\n",
      "Epoch 26 | train -6.305391 | val 8870.882061\n",
      "Epoch 27 | train -6.308533 | val 102148233.647013\n",
      "Epoch 28 | train -6.313524 | val inf\n",
      "Epoch 29 | train nan | val nan\n",
      "Epoch 30 | train nan | val nan\n",
      "Best epoch: {'val_loss': -6.695878575369054, 'epoch': 22}\n"
     ]
    }
   ],
   "source": [
    "model = HeteroLSTM(n_features=len(FEATURES), hidden=HIDDEN, layers=LAYERS, dropout=DROPOUT_P).to(DEVICE)\n",
    "opt = torch.optim.Adam(model.parameters(), lr=LR)\n",
    "\n",
    "best = {'val_loss': float('inf')}\n",
    "for epoch in range(1, EPOCHS+1):\n",
    "    model.train()\n",
    "    tr_loss = 0.0\n",
    "    for xb, yb in tr_dl:\n",
    "        xb = xb.to(DEVICE); yb = yb.to(DEVICE)\n",
    "        opt.zero_grad()\n",
    "        mu, logvar = model(xb)\n",
    "        loss = gaussian_nll(yb, mu, logvar).mean()\n",
    "        loss.backward(); opt.step()\n",
    "        tr_loss += loss.item() * xb.size(0)\n",
    "    tr_loss /= len(tr_ds)\n",
    "\n",
    "    # validate\n",
    "    model.eval()\n",
    "    with torch.no_grad():\n",
    "        va_losses = []\n",
    "        for xb, yb in va_dl:\n",
    "            xb = xb.to(DEVICE); yb = yb.to(DEVICE)\n",
    "            mu, logvar = model(xb)\n",
    "            loss = gaussian_nll(yb, mu, logvar).mean()\n",
    "            va_losses.append(loss.item())\n",
    "        va_loss = np.mean(va_losses)\n",
    "\n",
    "    print(f\"Epoch {epoch:02d} | train {tr_loss:.6f} | val {va_loss:.6f}\")\n",
    "    if va_loss < best['val_loss']:\n",
    "        best = {'val_loss': va_loss, 'epoch': epoch}\n",
    "        torch.save({'model': model.state_dict(), 'scaler_mean': scaler.mean_, 'scaler_scale': scaler.scale_,\n",
    "                    'features': FEATURES, 'config': dict(LOOKBACK=LOOKBACK, HIDDEN=HIDDEN, LAYERS=LAYERS,\n",
    "                    DROPOUT_P=DROPOUT_P)}, RUN_DIR / 'best.pth')\n",
    "print('Best epoch:', best)"
   ]
  },
  {
   "cell_type": "code",
   "execution_count": 65,
   "id": "3b0584cf-2fb8-4393-9dee-340225e5dbc5",
   "metadata": {},
   "outputs": [
    {
     "name": "stderr",
     "output_type": "stream",
     "text": [
      "C:\\Users\\hp\\AppData\\Local\\Temp\\ipykernel_30736\\2110981142.py:1: FutureWarning: You are using `torch.load` with `weights_only=False` (the current default value), which uses the default pickle module implicitly. It is possible to construct malicious pickle data which will execute arbitrary code during unpickling (See https://github.com/pytorch/pytorch/blob/main/SECURITY.md#untrusted-models for more details). In a future release, the default value for `weights_only` will be flipped to `True`. This limits the functions that could be executed during unpickling. Arbitrary objects will no longer be allowed to be loaded via this mode unless they are explicitly allowlisted by the user via `torch.serialization.add_safe_globals`. We recommend you start setting `weights_only=True` for any use case where you don't have full control of the loaded file. Please open an issue on GitHub for any issues related to this experimental feature.\n",
      "  ckpt = torch.load(RUN_DIR / 'best.pth', map_location=DEVICE)\n"
     ]
    },
    {
     "name": "stdout",
     "output_type": "stream",
     "text": [
      "Test RMSE: 0.0010680838350381047 MAE: 0.000694973801728338\n"
     ]
    }
   ],
   "source": [
    "ckpt = torch.load(RUN_DIR / 'best.pth', map_location=DEVICE)\n",
    "model.load_state_dict(ckpt['model'])\n",
    "\n",
    "def predict_mc_batched(model, X, mc_samples=50, batch_size=64):\n",
    "    model.train()  # keep dropout ON\n",
    "    mus, s2s = [], []\n",
    "    device = next(model.parameters()).device\n",
    "\n",
    "    with torch.no_grad():\n",
    "        for i in range(0, len(X), batch_size):\n",
    "            Xb = torch.tensor(X[i:i+batch_size], dtype=torch.float32, device=device)\n",
    "            # Collect CPU-side lists per batch\n",
    "            batch_mus, batch_s2s = [], []\n",
    "            for _ in range(mc_samples):\n",
    "                mu, logvar = model(Xb)\n",
    "                batch_mus.append(mu.detach().cpu().unsqueeze(0))\n",
    "                batch_s2s.append(torch.exp(logvar).detach().cpu().unsqueeze(0))\n",
    "                torch.cuda.empty_cache()\n",
    "            # Concatenate CPU tensors for this batch\n",
    "            mus.append(torch.cat(batch_mus, dim=0))   # (K, B_batch)\n",
    "            s2s.append(torch.cat(batch_s2s, dim=0))\n",
    "    # Now combine all batches on CPU: \n",
    "    mu_s = torch.cat(mus, dim=1)   # (K, B_total)\n",
    "    s2_s = torch.cat(s2s, dim=1)   # (K, B_total)\n",
    "    mu_bar = mu_s.mean(dim=0).numpy()\n",
    "    s2_alea = s2_s.mean(dim=0).numpy()\n",
    "    s2_epi  = mu_s.var(dim=0, unbiased=True).numpy()\n",
    "    return mu_bar, s2_alea, s2_epi, (s2_alea + s2_epi)\n",
    "\n",
    "\n",
    "mu_te, s2a_te, s2e_te, s2t_te = predict_mc_batched(model, X_te, MC_SAMPLES)\n",
    "mu_va, s2a_va, s2e_va, s2t_va = predict_mc_batched(model, X_va, MC_SAMPLES)\n",
    "\n",
    "rmse = math.sqrt(mean_squared_error(y_te, mu_te))\n",
    "mae  = mean_absolute_error(y_te, mu_te)\n",
    "print('Test RMSE:', rmse, 'MAE:', mae)"
   ]
  },
  {
   "cell_type": "code",
   "execution_count": 67,
   "id": "ad2d92f5-4f19-432a-a10f-ded87d51f6c0",
   "metadata": {},
   "outputs": [
    {
     "name": "stdout",
     "output_type": "stream",
     "text": [
      "Baseline conformal radius (validation): 0.0012324941\n",
      "PI coverage | Conformal (target≈90%): 0.8984028686575557 | Gaussian: 0.9143394693816627\n"
     ]
    }
   ],
   "source": [
    "# Compute absolute residuals on validation\n",
    "res_val = np.abs(y_va - mu_va)\n",
    "\n",
    "def rolling_quantile(scores, q=0.9, window=2000):\n",
    "    # returns array of same length with rolling quantile; first window uses expanding\n",
    "    from collections import deque\n",
    "    out = np.empty_like(scores); out[:] = np.nan\n",
    "    dq = deque()\n",
    "    for i, s in enumerate(scores):\n",
    "        dq.append(float(s))\n",
    "        if len(dq) > window: dq.popleft()\n",
    "        out[i] = np.quantile(dq, q)\n",
    "    return out\n",
    "\n",
    "q_val = rolling_quantile(res_val, q=1-ALPHA, window=ROLL_CONFORMAL)\n",
    "q_star = np.nanmedian(q_val)  # baseline constant radius from validation\n",
    "print('Baseline conformal radius (validation):', q_star)\n",
    "\n",
    "# Adaptive on test: update radius with rolling residuals\n",
    "res_te_hist = []\n",
    "q_te = np.empty_like(y_te)\n",
    "for i in range(len(y_te)):\n",
    "    # update with previous residual if available\n",
    "    if i > 0:\n",
    "        res_te_hist.append(abs(y_te[i-1] - mu_te[i-1]))\n",
    "        if len(res_te_hist) > ROLL_CONFORMAL:\n",
    "            res_te_hist.pop(0)\n",
    "    q_adapt = np.quantile(res_te_hist, 1-ALPHA) if res_te_hist else q_star\n",
    "    q_te[i] = q_adapt\n",
    "\n",
    "# Conformal intervals centered at mean prediction\n",
    "lo_cqr = mu_te - q_te\n",
    "hi_cqr = mu_te + q_te\n",
    "\n",
    "# Gaussian-based intervals using total variance (for comparison)\n",
    "z = float(scipy.stats.norm.ppf(1-ALPHA/2)) if False else 1.6448536269514722  # 90%\n",
    "lo_gau = mu_te - z*np.sqrt(s2t_te)\n",
    "hi_gau = mu_te + z*np.sqrt(s2t_te)\n",
    "\n",
    "def coverage(y, lo, hi):\n",
    "    return np.mean((y >= lo) & (y <= hi))\n",
    "\n",
    "cov_cqr = coverage(y_te, lo_cqr, hi_cqr)\n",
    "cov_gau = coverage(y_te, lo_gau, hi_gau)\n",
    "print('PI coverage | Conformal (target≈90%):', cov_cqr, '| Gaussian:', cov_gau)"
   ]
  },
  {
   "cell_type": "code",
   "execution_count": 69,
   "id": "66763b21-a7ee-458e-8e2c-a4b7506cd834",
   "metadata": {},
   "outputs": [
    {
     "data": {
      "image/png": "[encoded data removed]",
      "text/plain": [
       "<Figure size 1200x400 with 1 Axes>"
      ]
     },
     "metadata": {},
     "output_type": "display_data"
    },
    {
     "data": {
      "image/png": "[encoded data removed]",
      "text/plain": [
       "<Figure size 1000x400 with 1 Axes>"
      ]
     },
     "metadata": {},
     "output_type": "display_data"
    }
   ],
   "source": [
    "\n",
    "# Plot a recent window\n",
    "W = 1200\n",
    "idx = slice(-W, None)\n",
    "t_idx = pd.to_datetime(ts_te[idx])\n",
    "\n",
    "plt.figure(figsize=(12,4))\n",
    "plt.plot(t_idx, y_te[idx], label='y (true)')\n",
    "plt.plot(t_idx, mu_te[idx], label='mu (pred)')\n",
    "plt.fill_between(t_idx, lo_cqr[idx], hi_cqr[idx], alpha=0.2, label='Conformal 90%')\n",
    "plt.fill_between(t_idx, (mu_te - 1.645*np.sqrt(s2t_te))[idx], (mu_te + 1.645*np.sqrt(s2t_te))[idx], \n",
    "                 alpha=0.15, label='Gaussian 90%')\n",
    "plt.legend(); plt.title('Next-hour return prediction with uncertainty'); plt.tight_layout(); plt.show()\n",
    "\n",
    "# Uncertainty decomposition histogram\n",
    "plt.figure()\n",
    "plt.hist(np.sqrt(s2a_te), bins=50, alpha=0.6, label='aleatoric σ')\n",
    "plt.hist(np.sqrt(s2e_te), bins=50, alpha=0.6, label='epistemic σ')\n",
    "plt.legend(); plt.title('Uncertainty components (test)'); plt.tight_layout(); plt.show()"
   ]
  },
  {
   "cell_type": "code",
   "execution_count": 73,
   "id": "97ff943d-91e2-4d72-a97c-2d98ac245520",
   "metadata": {},
   "outputs": [],
   "source": [
    "# Save predictions and intervals\n",
    "out = pd.DataFrame({\n",
    "    'time': pd.to_datetime(ts_te),\n",
    "    'y': y_te, 'mu': mu_te,\n",
    "    'sigma_alea': np.sqrt(s2a_te),\n",
    "    'sigma_epi':  np.sqrt(s2e_te),\n",
    "    'lo_cqr': lo_cqr, 'hi_cqr': hi_cqr\n",
    "}).set_index('time')\n",
    "\n",
    "# Minimal inference helper\n",
    "def predict_next_hour(feature_matrix, model_path=RUN_DIR/'best.pth'):\n",
    "    ck = torch.load(model_path, map_location='cpu')\n",
    "    feats = ck['features']\n",
    "    sc = StandardScaler(); sc.mean_ = ck['scaler_mean']; sc.scale_ = ck['scaler_scale']\n",
    "    X = sc.transform(feature_matrix[feats])[-LOOKBACK:][None].astype('float32')\n",
    "    m = HeteroLSTM(n_features=len(feats), hidden=HIDDEN, layers=LAYERS, dropout=DROPOUT_P)\n",
    "    m.load_state_dict(ck['model']); m.eval()\n",
    "    with torch.no_grad():\n",
    "        mu, logvar = m(torch.tensor(X))\n",
    "        mu = mu.item(); s2 = float(torch.exp(logvar).item())\n",
    "    return mu, math.sqrt(s2)"
   ]
  },
  {
   "cell_type": "code",
   "execution_count": null,
   "id": "a4f502c1-dd3f-40cd-b7ab-185ac0fef802",
   "metadata": {},
   "outputs": [],
   "source": []
  }
 ],
 "metadata": {
  "kernelspec": {
   "display_name": "Python (trading-env)",
   "language": "python",
   "name": "venv"
  },
  "language_info": {
   "codemirror_mode": {
    "name": "ipython",
    "version": 3
   },
   "file_extension": ".py",
   "mimetype": "text/x-python",
   "name": "python",
   "nbconvert_exporter": "python",
   "pygments_lexer": "ipython3",
   "version": "3.12.9"
  }
 },
 "nbformat": 4,
 "nbformat_minor": 5
}
